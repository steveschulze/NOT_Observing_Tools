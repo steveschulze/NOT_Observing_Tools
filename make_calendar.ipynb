{
 "cells": [
  {
   "cell_type": "code",
   "execution_count": 1,
   "metadata": {},
   "outputs": [],
   "source": [
    "from   astroplan import moon\n",
    "from   astropy import time\n",
    "from   astropy.io import ascii\n",
    "from   astropy import table\n",
    "import pandas as pd\n",
    "import numpy as np"
   ]
  },
  {
   "cell_type": "code",
   "execution_count": null,
   "metadata": {},
   "outputs": [],
   "source": [
    "# URL to the NOT observing calendar"
   ]
  },
  {
   "cell_type": "code",
   "execution_count": null,
   "metadata": {},
   "outputs": [],
   "source": [
    "url = r'http://www.not.iac.es/observing/schedules/schedule.php?period=64&k=&output=html&prn=yes'"
   ]
  },
  {
   "cell_type": "code",
   "execution_count": null,
   "metadata": {},
   "outputs": [],
   "source": [
    "# Retrieve the calendar"
   ]
  },
  {
   "cell_type": "code",
   "execution_count": 2,
   "metadata": {},
   "outputs": [
    {
     "data": {
      "text/html": [
       "<div><i>Table length=5</i>\n",
       "<table id=\"table4666812112\" class=\"table-striped table-bordered table-condensed\">\n",
       "<thead><tr><th>Start Date (Noon)</th><th>End Date (Noon)</th><th>Proposal Number</th><th>Principal Investigator</th><th>Institute/ Country</th><th>Programme</th><th>Instrument</th><th>Remarks</th></tr></thead>\n",
       "<thead><tr><th>str6</th><th>str6</th><th>str6</th><th>str54</th><th>str8</th><th>str116</th><th>str12</th><th>str40</th></tr></thead>\n",
       "<tr><td>Oct 01</td><td>Oct 03</td><td>64-019</td><td>Giorgos Leloudas</td><td>DK</td><td>Unveiling the nature of blue featureless transients</td><td>ALFOSC</td><td>--</td></tr>\n",
       "<tr><td>Oct 03</td><td>Oct 04</td><td>63-199</td><td>Various</td><td>NOT</td><td>Nordic service time</td><td>ALFOSC +FIES</td><td>Service</td></tr>\n",
       "<tr><td>Oct 04</td><td>Oct 05</td><td>64-199</td><td>Various</td><td>NOT</td><td>Nordic service time</td><td>ALFOSC +FIES</td><td>Service</td></tr>\n",
       "<tr><td>Oct 05</td><td>Oct 10</td><td>64-003</td><td>Pasi Hakala</td><td>FI</td><td>Magnetic accretion and evolution of pre-cataclysmic variables II</td><td>ALFOSC</td><td>Service</td></tr>\n",
       "<tr><td>Oct 10</td><td>Oct 11</td><td>64-199</td><td>Various</td><td>NOT</td><td>Nordic service time</td><td>ALFOSC +FIES</td><td>Service</td></tr>\n",
       "</table></div>"
      ],
      "text/plain": [
       "<Table length=5>\n",
       "Start Date (Noon) End Date (Noon) Proposal Number ...  Instrument  Remarks\n",
       "       str6             str6            str6      ...    str12      str40 \n",
       "----------------- --------------- --------------- ... ------------ -------\n",
       "           Oct 01          Oct 03          64-019 ...       ALFOSC      --\n",
       "           Oct 03          Oct 04          63-199 ... ALFOSC +FIES Service\n",
       "           Oct 04          Oct 05          64-199 ... ALFOSC +FIES Service\n",
       "           Oct 05          Oct 10          64-003 ...       ALFOSC Service\n",
       "           Oct 10          Oct 11          64-199 ... ALFOSC +FIES Service"
      ]
     },
     "execution_count": 2,
     "metadata": {},
     "output_type": "execute_result"
    }
   ],
   "source": [
    "tables = pd.read_html(url)\n",
    "schedule = table.Table.from_pandas(tables[0])\n",
    "schedule[:5]"
   ]
  },
  {
   "cell_type": "code",
   "execution_count": null,
   "metadata": {},
   "outputs": [],
   "source": [
    "# Identifying the relevant nights"
   ]
  },
  {
   "cell_type": "code",
   "execution_count": 3,
   "metadata": {},
   "outputs": [],
   "source": [
    "mask_service   = np.where(schedule['Programme'] == 'Nordic service time')[0]\n",
    "mask_technical = np.where(schedule['Programme'] == 'Technical time')[0]\n",
    "mask_union     = np.union1d(mask_service, mask_technical)"
   ]
  },
  {
   "cell_type": "code",
   "execution_count": null,
   "metadata": {},
   "outputs": [],
   "source": [
    "# Return the useful observing nights"
   ]
  },
  {
   "cell_type": "code",
   "execution_count": 4,
   "metadata": {},
   "outputs": [
    {
     "data": {
      "text/html": [
       "<div><i>Table length=5</i>\n",
       "<table id=\"table4704599440\" class=\"table-striped table-bordered table-condensed\">\n",
       "<thead><tr><th>Start Date (Noon)</th><th>End Date (Noon)</th><th>Instrument</th><th>Remarks</th><th>Programme</th></tr></thead>\n",
       "<thead><tr><th>str6</th><th>str6</th><th>str12</th><th>str40</th><th>str116</th></tr></thead>\n",
       "<tr><td>Mar 27</td><td>Mar 28</td><td>ALFOSC +FIES</td><td>Service</td><td>Nordic service time</td></tr>\n",
       "<tr><td>Mar 28</td><td>Mar 29</td><td>FIES +ALFOSC</td><td>Remainder of night: Service</td><td>Nordic service time</td></tr>\n",
       "<tr><td>Mar 29</td><td>Mar 30</td><td>ALFOSC +FIES</td><td>Service</td><td>Nordic service time</td></tr>\n",
       "<tr><td>Mar 30</td><td>Mar 31</td><td>ALFOSC +FIES</td><td>Service</td><td>Nordic service time</td></tr>\n",
       "<tr><td>Mar 31</td><td>Apr 01</td><td>?</td><td>--</td><td>Technical time</td></tr>\n",
       "</table></div>"
      ],
      "text/plain": [
       "<Table length=5>\n",
       "Start Date (Noon) End Date (Noon) ...      Programme     \n",
       "       str6             str6      ...        str116      \n",
       "----------------- --------------- ... -------------------\n",
       "           Mar 27          Mar 28 ... Nordic service time\n",
       "           Mar 28          Mar 29 ... Nordic service time\n",
       "           Mar 29          Mar 30 ... Nordic service time\n",
       "           Mar 30          Mar 31 ... Nordic service time\n",
       "           Mar 31          Apr 01 ...      Technical time"
      ]
     },
     "execution_count": 4,
     "metadata": {},
     "output_type": "execute_result"
    }
   ],
   "source": [
    "keys = ['Start Date (Noon)', 'End Date (Noon)', 'Instrument', 'Remarks', 'Programme']\n",
    "good_nights = schedule[keys][mask_union]\n",
    "good_nights[-5:]"
   ]
  },
  {
   "cell_type": "code",
   "execution_count": null,
   "metadata": {},
   "outputs": [],
   "source": [
    "# Output calendar"
   ]
  },
  {
   "cell_type": "code",
   "execution_count": 5,
   "metadata": {},
   "outputs": [],
   "source": [
    "year_start = '2021'\n",
    "year_end   = '2022'\n",
    "\n",
    "months_year_start = ['Oct', 'Nov', 'Dec']\n",
    "months_year_end = ['Jan', 'Feb', 'Mar', 'Apr', 'Jun', 'Jul', 'Aug', 'Sep']\n",
    "\n",
    "month_number = {'Jan': '01', 'Feb': '02', 'Mar': '03', 'Apr': '04', 'May': '05', 'Jun': '06', 'Jul': '07', 'Aug': '08', 'Sep': '09', 'Oct': '10', 'Nov': '11', 'Dec': '12'}"
   ]
  },
  {
   "cell_type": "code",
   "execution_count": 6,
   "metadata": {},
   "outputs": [],
   "source": [
    "obs_run = table.Table(names=('Start date', 'Start Time', 'End Date', 'End Time', 'Subject'), dtype=('S100', 'S100', 'S100', 'S100', 'S1000'))\n",
    "\n",
    "for i in range(len(good_nights)):\n",
    "    \n",
    "    month, day = good_nights[i]['Start Date (Noon)'].split(' ')\n",
    "    date       = year_start + '-' + month_number[month] + '-' + day + 'T12:00:00' if month in months_year_start else year_end + '-' + month_number[month]  + '-' + day + 'T12:00:00'\n",
    "    date       = time.Time(date, format='isot', scale='utc')\n",
    "    \n",
    "    tstart     = date\n",
    "    \n",
    "    month, day = good_nights[i]['End Date (Noon)'].split(' ')\n",
    "    date       = year_start + '-' + month_number[month] + '-' + day + 'T12:00:00' if month in months_year_start else year_end + '-' + month_number[month]  + '-' + day + 'T12:00:00'\n",
    "    date       = time.Time(date, format='isot', scale='utc')\n",
    "    \n",
    "    tend       = date\n",
    "    \n",
    "    moon_illum = np.round(moon.moon_illumination(tstart, ephemeris=None), 2)\n",
    "    \n",
    "    instrument  = good_nights[i]['Instrument']\n",
    "    remarks     = good_nights[i]['Remarks']\n",
    "    night_type  = good_nights[i]['Programme']\n",
    "    \n",
    "    description = 'Instrument(s): ' + instrument + '; moon illumination: ' + str(moon_illum)\n",
    "    \n",
    "    # Fetch the nights when ALFOSC is mounted\n",
    "\n",
    "    if 'ALFOSC' in instrument:\n",
    "        #print( tstart, tend, moon_illum, instrument, night_type, remarks)\n",
    "        obs_run.add_row([tstart.iso.split(' ')[0], tstart.iso.split(' ')[1] + ' PM', tend.iso.split(' ')[0], tend.iso.split(' ')[1] + ' PM', night_type + ' (' + description + ')'])"
   ]
  },
  {
   "cell_type": "code",
   "execution_count": 8,
   "metadata": {},
   "outputs": [],
   "source": [
    "ascii.write(obs_run, 'NOT_obsrun_P64.csv', format='csv', overwrite=True)"
   ]
  },
  {
   "cell_type": "code",
   "execution_count": 9,
   "metadata": {},
   "outputs": [
    {
     "data": {
      "text/html": [
       "<div><i>Table length=88</i>\n",
       "<table id=\"table4704714416\" class=\"table-striped table-bordered table-condensed\">\n",
       "<thead><tr><th>Start date</th><th>Start Time</th><th>End Date</th><th>End Time</th><th>Subject</th></tr></thead>\n",
       "<thead><tr><th>bytes100</th><th>bytes100</th><th>bytes100</th><th>bytes100</th><th>bytes1000</th></tr></thead>\n",
       "<tr><td>2021-10-03</td><td>12:00:00.000 PM</td><td>2021-10-04</td><td>12:00:00.000 PM</td><td>Nordic service time (Instrument(s): ALFOSC +FIES; moon illumination: 0.11)</td></tr>\n",
       "<tr><td>2021-10-04</td><td>12:00:00.000 PM</td><td>2021-10-05</td><td>12:00:00.000 PM</td><td>Nordic service time (Instrument(s): ALFOSC +FIES; moon illumination: 0.05)</td></tr>\n",
       "<tr><td>2021-10-10</td><td>12:00:00.000 PM</td><td>2021-10-11</td><td>12:00:00.000 PM</td><td>Nordic service time (Instrument(s): ALFOSC +FIES; moon illumination: 0.21)</td></tr>\n",
       "<tr><td>2021-10-11</td><td>12:00:00.000 PM</td><td>2021-10-12</td><td>12:00:00.000 PM</td><td>Nordic service time (Instrument(s): ALFOSC +FIES; moon illumination: 0.32)</td></tr>\n",
       "<tr><td>2021-10-14</td><td>12:00:00.000 PM</td><td>2021-10-15</td><td>12:00:00.000 PM</td><td>Technical time (Instrument(s): ALFOSC +FIES; moon illumination: 0.65)</td></tr>\n",
       "<tr><td>2021-10-15</td><td>12:00:00.000 PM</td><td>2021-10-16</td><td>12:00:00.000 PM</td><td>Nordic service time (Instrument(s): ALFOSC +FIES; moon illumination: 0.75)</td></tr>\n",
       "<tr><td>2021-10-16</td><td>12:00:00.000 PM</td><td>2021-10-17</td><td>12:00:00.000 PM</td><td>Nordic service time (Instrument(s): ALFOSC +FIES; moon illumination: 0.83)</td></tr>\n",
       "<tr><td>2021-10-17</td><td>12:00:00.000 PM</td><td>2021-10-18</td><td>12:00:00.000 PM</td><td>Nordic service time (Instrument(s): ALFOSC +FIES; moon illumination: 0.9)</td></tr>\n",
       "<tr><td>2021-10-22</td><td>12:00:00.000 PM</td><td>2021-10-23</td><td>12:00:00.000 PM</td><td>Nordic service time (Instrument(s): ALFOSC +FIES; moon illumination: 0.97)</td></tr>\n",
       "<tr><td>2021-10-23</td><td>12:00:00.000 PM</td><td>2021-10-24</td><td>12:00:00.000 PM</td><td>Nordic service time (Instrument(s): ALFOSC +FIES; moon illumination: 0.93)</td></tr>\n",
       "<tr><td>...</td><td>...</td><td>...</td><td>...</td><td>...</td></tr>\n",
       "<tr><td>2022-03-12</td><td>12:00:00.000 PM</td><td>2022-03-13</td><td>12:00:00.000 PM</td><td>Nordic service time (Instrument(s): ALFOSC +FIES; moon illumination: 0.69)</td></tr>\n",
       "<tr><td>2022-03-13</td><td>12:00:00.000 PM</td><td>2022-03-14</td><td>12:00:00.000 PM</td><td>Nordic service time (Instrument(s): ALFOSC +FIES; moon illumination: 0.77)</td></tr>\n",
       "<tr><td>2022-03-14</td><td>12:00:00.000 PM</td><td>2022-03-15</td><td>12:00:00.000 PM</td><td>Technical time (Instrument(s): ALFOSC +FIES; moon illumination: 0.85)</td></tr>\n",
       "<tr><td>2022-03-18</td><td>12:00:00.000 PM</td><td>2022-03-22</td><td>12:00:00.000 PM</td><td>Nordic service time (Instrument(s): FIES +ALFOSC; moon illumination: 1.0)</td></tr>\n",
       "<tr><td>2022-03-22</td><td>12:00:00.000 PM</td><td>2022-03-23</td><td>12:00:00.000 PM</td><td>Nordic service time (Instrument(s): ALFOSC +FIES; moon illumination: 0.79)</td></tr>\n",
       "<tr><td>2022-03-23</td><td>12:00:00.000 PM</td><td>2022-03-24</td><td>12:00:00.000 PM</td><td>Nordic service time (Instrument(s): ALFOSC +FIES; moon illumination: 0.69)</td></tr>\n",
       "<tr><td>2022-03-27</td><td>12:00:00.000 PM</td><td>2022-03-28</td><td>12:00:00.000 PM</td><td>Nordic service time (Instrument(s): ALFOSC +FIES; moon illumination: 0.25)</td></tr>\n",
       "<tr><td>2022-03-28</td><td>12:00:00.000 PM</td><td>2022-03-29</td><td>12:00:00.000 PM</td><td>Nordic service time (Instrument(s): FIES +ALFOSC; moon illumination: 0.16)</td></tr>\n",
       "<tr><td>2022-03-29</td><td>12:00:00.000 PM</td><td>2022-03-30</td><td>12:00:00.000 PM</td><td>Nordic service time (Instrument(s): ALFOSC +FIES; moon illumination: 0.09)</td></tr>\n",
       "<tr><td>2022-03-30</td><td>12:00:00.000 PM</td><td>2022-03-31</td><td>12:00:00.000 PM</td><td>Nordic service time (Instrument(s): ALFOSC +FIES; moon illumination: 0.04)</td></tr>\n",
       "</table></div>"
      ],
      "text/plain": [
       "<Table length=88>\n",
       "Start date ...\n",
       " bytes100  ...\n",
       "---------- ...\n",
       "2021-10-03 ...\n",
       "2021-10-04 ...\n",
       "2021-10-10 ...\n",
       "2021-10-11 ...\n",
       "2021-10-14 ...\n",
       "2021-10-15 ...\n",
       "2021-10-16 ...\n",
       "2021-10-17 ...\n",
       "2021-10-22 ...\n",
       "2021-10-23 ...\n",
       "       ... ...\n",
       "2022-03-12 ...\n",
       "2022-03-13 ...\n",
       "2022-03-14 ...\n",
       "2022-03-18 ...\n",
       "2022-03-22 ...\n",
       "2022-03-23 ...\n",
       "2022-03-27 ...\n",
       "2022-03-28 ...\n",
       "2022-03-29 ...\n",
       "2022-03-30 ..."
      ]
     },
     "execution_count": 9,
     "metadata": {},
     "output_type": "execute_result"
    }
   ],
   "source": [
    "obs_run#[20:]"
   ]
  },
  {
   "cell_type": "code",
   "execution_count": null,
   "metadata": {},
   "outputs": [],
   "source": []
  },
  {
   "cell_type": "code",
   "execution_count": null,
   "metadata": {},
   "outputs": [],
   "source": []
  }
 ],
 "metadata": {
  "interpreter": {
   "hash": "1f160d73e5889a554f544a290b1f98f1cb54fce43b21b6902a966a0c369bd614"
  },
  "kernelspec": {
   "display_name": "Python 3.6.13 64-bit",
   "name": "python3"
  },
  "language_info": {
   "codemirror_mode": {
    "name": "ipython",
    "version": 3
   },
   "file_extension": ".py",
   "mimetype": "text/x-python",
   "name": "python",
   "nbconvert_exporter": "python",
   "pygments_lexer": "ipython3",
   "version": "3.8.12"
  }
 },
 "nbformat": 4,
 "nbformat_minor": 4
}
