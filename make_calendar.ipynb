{
 "cells": [
  {
   "cell_type": "code",
   "execution_count": 1,
   "metadata": {},
   "outputs": [],
   "source": [
    "from   astroplan import moon\n",
    "from   astropy import time\n",
    "from   astropy.io import ascii\n",
    "from   astropy import table\n",
    "import pandas as pd\n",
    "import numpy as np"
   ]
  },
  {
   "cell_type": "code",
   "execution_count": 2,
   "metadata": {},
   "outputs": [],
   "source": [
    "# URL to the NOT observing calendar"
   ]
  },
  {
   "cell_type": "code",
   "execution_count": 3,
   "metadata": {},
   "outputs": [],
   "source": [
    "url = r'http://www.not.iac.es/observing/schedules/schedule.php?period=65&k=&output=html&prn=yes'"
   ]
  },
  {
   "cell_type": "code",
   "execution_count": 4,
   "metadata": {},
   "outputs": [],
   "source": [
    "# Retrieve the calendar"
   ]
  },
  {
   "cell_type": "code",
   "execution_count": 5,
   "metadata": {},
   "outputs": [
    {
     "data": {
      "text/html": [
       "<div><i>Table length=5</i>\n",
       "<table id=\"table4578862368\" class=\"table-striped table-bordered table-condensed\">\n",
       "<thead><tr><th>Start Date (Noon)</th><th>End Date (Noon)</th><th>Proposal Number</th><th>Principal Investigator</th><th>Institute/ Country</th><th>Programme</th><th>Instrument</th><th>Remarks</th></tr></thead>\n",
       "<thead><tr><th>str6</th><th>str6</th><th>str6</th><th>str54</th><th>str12</th><th>str116</th><th>str14</th><th>str61</th></tr></thead>\n",
       "<tr><td>Apr 01</td><td>Apr 02</td><td>65-026</td><td>Lauri Siltala</td><td>FI</td><td>Physical characterization of large asteroids through lightcurve inversion</td><td>ALFOSC +FIES</td><td>Time critical 5.7hr: Service</td></tr>\n",
       "<tr><td>Apr 01</td><td>Apr 02</td><td>65-199</td><td>Various</td><td>NOT</td><td>Nordic service time</td><td>ALFOSC +FIES</td><td>Remainder of night: Service</td></tr>\n",
       "<tr><td>Apr 02</td><td>Apr 03</td><td>64-199</td><td>Various</td><td>NOT</td><td>Nordic service time</td><td>ALFOSC +FIES</td><td>Service</td></tr>\n",
       "<tr><td>Apr 03</td><td>Apr 05</td><td>65-109</td><td>Cameron Lemon</td><td>ORP</td><td>Spectroscopic Confirmation of Lensed Quasars discovered through Extended Variability</td><td>ALFOSC</td><td>--</td></tr>\n",
       "<tr><td>Apr 05</td><td>Apr 06</td><td>65-299</td><td>CAT</td><td>ES</td><td>CAT service time</td><td>ALFOSC +FIES</td><td>--</td></tr>\n",
       "</table></div>"
      ],
      "text/plain": [
       "<Table length=5>\n",
       "Start Date (Noon) End Date (Noon) ...  Instrument            Remarks           \n",
       "       str6             str6      ...    str14                str61            \n",
       "----------------- --------------- ... ------------ ----------------------------\n",
       "           Apr 01          Apr 02 ... ALFOSC +FIES Time critical 5.7hr: Service\n",
       "           Apr 01          Apr 02 ... ALFOSC +FIES  Remainder of night: Service\n",
       "           Apr 02          Apr 03 ... ALFOSC +FIES                      Service\n",
       "           Apr 03          Apr 05 ...       ALFOSC                           --\n",
       "           Apr 05          Apr 06 ... ALFOSC +FIES                           --"
      ]
     },
     "execution_count": 5,
     "metadata": {},
     "output_type": "execute_result"
    }
   ],
   "source": [
    "tables = pd.read_html(url)\n",
    "schedule = table.Table.from_pandas(tables[0])\n",
    "schedule[:5]"
   ]
  },
  {
   "cell_type": "code",
   "execution_count": 6,
   "metadata": {},
   "outputs": [],
   "source": [
    "# Identifying the relevant nights"
   ]
  },
  {
   "cell_type": "code",
   "execution_count": 7,
   "metadata": {},
   "outputs": [],
   "source": [
    "mask_service   = np.where(schedule['Programme'] == 'Nordic service time')[0]\n",
    "mask_technical = np.where(schedule['Programme'] == 'Technical time')[0]\n",
    "mask_union     = np.union1d(mask_service, mask_technical)"
   ]
  },
  {
   "cell_type": "code",
   "execution_count": 8,
   "metadata": {},
   "outputs": [],
   "source": [
    "# Return the useful observing nights"
   ]
  },
  {
   "cell_type": "code",
   "execution_count": 9,
   "metadata": {},
   "outputs": [
    {
     "data": {
      "text/html": [
       "<div><i>Table length=5</i>\n",
       "<table id=\"table4578798416\" class=\"table-striped table-bordered table-condensed\">\n",
       "<thead><tr><th>Start Date (Noon)</th><th>End Date (Noon)</th><th>Instrument</th><th>Remarks</th><th>Programme</th></tr></thead>\n",
       "<thead><tr><th>str6</th><th>str6</th><th>str14</th><th>str61</th><th>str116</th></tr></thead>\n",
       "<tr><td>Sep 19</td><td>Sep 21</td><td>ALFOSC +FIES</td><td>Remainder of nights: Service</td><td>Nordic service time</td></tr>\n",
       "<tr><td>Sep 21</td><td>Sep 22</td><td>? +FIES</td><td>Service</td><td>Nordic service time</td></tr>\n",
       "<tr><td>Sep 27</td><td>Sep 28</td><td>ALFOSC +FIES</td><td>Service</td><td>Nordic service time</td></tr>\n",
       "<tr><td>Sep 29</td><td>Sep 30</td><td>ALFOSC +FIES</td><td>Service</td><td>Nordic service time</td></tr>\n",
       "<tr><td>Sep 30</td><td>Oct 01</td><td>ALFOSC</td><td>Remainder of night</td><td>Technical time</td></tr>\n",
       "</table></div>"
      ],
      "text/plain": [
       "<Table length=5>\n",
       "Start Date (Noon) End Date (Noon) ...      Programme     \n",
       "       str6             str6      ...        str116      \n",
       "----------------- --------------- ... -------------------\n",
       "           Sep 19          Sep 21 ... Nordic service time\n",
       "           Sep 21          Sep 22 ... Nordic service time\n",
       "           Sep 27          Sep 28 ... Nordic service time\n",
       "           Sep 29          Sep 30 ... Nordic service time\n",
       "           Sep 30          Oct 01 ...      Technical time"
      ]
     },
     "execution_count": 9,
     "metadata": {},
     "output_type": "execute_result"
    }
   ],
   "source": [
    "keys = ['Start Date (Noon)', 'End Date (Noon)', 'Instrument', 'Remarks', 'Programme']\n",
    "good_nights = schedule[keys][mask_union]\n",
    "good_nights[-5:]"
   ]
  },
  {
   "cell_type": "code",
   "execution_count": 10,
   "metadata": {},
   "outputs": [],
   "source": [
    "# Output calendar"
   ]
  },
  {
   "cell_type": "code",
   "execution_count": 11,
   "metadata": {},
   "outputs": [],
   "source": [
    "year_start = '2022'\n",
    "year_end   = '2022'\n",
    "\n",
    "months_year_start = ['Oct', 'Nov', 'Dec']\n",
    "months_year_end = ['Jan', 'Feb', 'Mar', 'Apr', 'Jun', 'Jul', 'Aug', 'Sep']\n",
    "\n",
    "month_number = {'Jan': '01', 'Feb': '02', 'Mar': '03', 'Apr': '04', 'May': '05', 'Jun': '06', 'Jul': '07', 'Aug': '08', 'Sep': '09', 'Oct': '10', 'Nov': '11', 'Dec': '12'}"
   ]
  },
  {
   "cell_type": "code",
   "execution_count": 12,
   "metadata": {},
   "outputs": [],
   "source": [
    "obs_run = table.Table(names=('Start date', 'Start Time', 'End Date', 'End Time', 'Subject'), dtype=('S100', 'S100', 'S100', 'S100', 'S1000'))\n",
    "\n",
    "for i in range(len(good_nights)):\n",
    "    \n",
    "    month, day = good_nights[i]['Start Date (Noon)'].split(' ')\n",
    "    date       = year_start + '-' + month_number[month] + '-' + day + 'T12:00:00' if month in months_year_start else year_end + '-' + month_number[month]  + '-' + day + 'T12:00:00'\n",
    "    date       = time.Time(date, format='isot', scale='utc')\n",
    "    \n",
    "    tstart     = date\n",
    "    \n",
    "    month, day = good_nights[i]['End Date (Noon)'].split(' ')\n",
    "    date       = year_start + '-' + month_number[month] + '-' + day + 'T12:00:00' if month in months_year_start else year_end + '-' + month_number[month]  + '-' + day + 'T12:00:00'\n",
    "    date       = time.Time(date, format='isot', scale='utc')\n",
    "    \n",
    "    tend       = date\n",
    "    \n",
    "    moon_illum = np.round(moon.moon_illumination(tstart, ephemeris=None), 2)\n",
    "    \n",
    "    instrument  = good_nights[i]['Instrument']\n",
    "    remarks     = good_nights[i]['Remarks']\n",
    "    night_type  = good_nights[i]['Programme']\n",
    "    \n",
    "    description = 'Instrument(s): ' + instrument + '; moon illumination: ' + str(moon_illum)\n",
    "    \n",
    "    # Fetch the nights when ALFOSC is mounted\n",
    "\n",
    "    if 'ALFOSC' in instrument:\n",
    "        #print( tstart, tend, moon_illum, instrument, night_type, remarks)\n",
    "        obs_run.add_row([tstart.iso.split(' ')[0], tstart.iso.split(' ')[1] + ' PM', tend.iso.split(' ')[0], tend.iso.split(' ')[1] + ' PM', night_type + ' (' + description + ')'])"
   ]
  },
  {
   "cell_type": "code",
   "execution_count": 13,
   "metadata": {},
   "outputs": [],
   "source": [
    "ascii.write(obs_run, 'NOT_obsrun_P65.csv', format='csv', overwrite=True)"
   ]
  },
  {
   "cell_type": "code",
   "execution_count": 14,
   "metadata": {},
   "outputs": [
    {
     "data": {
      "text/html": [
       "<div><i>Table length=78</i>\n",
       "<table id=\"table4578798272\" class=\"table-striped table-bordered table-condensed\">\n",
       "<thead><tr><th>Start date</th><th>Start Time</th><th>End Date</th><th>End Time</th><th>Subject</th></tr></thead>\n",
       "<thead><tr><th>bytes100</th><th>bytes100</th><th>bytes100</th><th>bytes100</th><th>bytes1000</th></tr></thead>\n",
       "<tr><td>2022-04-01</td><td>12:00:00.000 PM</td><td>2022-04-02</td><td>12:00:00.000 PM</td><td>Nordic service time (Instrument(s): ALFOSC +FIES; moon illumination: 0.0)</td></tr>\n",
       "<tr><td>2022-04-02</td><td>12:00:00.000 PM</td><td>2022-04-03</td><td>12:00:00.000 PM</td><td>Nordic service time (Instrument(s): ALFOSC +FIES; moon illumination: 0.02)</td></tr>\n",
       "<tr><td>2022-04-06</td><td>12:00:00.000 PM</td><td>2022-04-07</td><td>12:00:00.000 PM</td><td>Nordic service time (Instrument(s): ALFOSC +FIES; moon illumination: 0.25)</td></tr>\n",
       "<tr><td>2022-04-07</td><td>12:00:00.000 PM</td><td>2022-04-08</td><td>12:00:00.000 PM</td><td>Nordic service time (Instrument(s): ALFOSC +FIES; moon illumination: 0.34)</td></tr>\n",
       "<tr><td>2022-04-08</td><td>12:00:00.000 PM</td><td>2022-04-09</td><td>12:00:00.000 PM</td><td>Nordic service time (Instrument(s): ALFOSC +FIES; moon illumination: 0.43)</td></tr>\n",
       "<tr><td>2022-04-09</td><td>12:00:00.000 PM</td><td>2022-04-10</td><td>12:00:00.000 PM</td><td>Nordic service time (Instrument(s): ALFOSC +FIES; moon illumination: 0.52)</td></tr>\n",
       "<tr><td>2022-04-10</td><td>12:00:00.000 PM</td><td>2022-04-11</td><td>12:00:00.000 PM</td><td>Nordic service time (Instrument(s): ALFOSC +FIES; moon illumination: 0.62)</td></tr>\n",
       "<tr><td>2022-04-11</td><td>12:00:00.000 PM</td><td>2022-04-12</td><td>12:00:00.000 PM</td><td>Technical time (Instrument(s): ALFOSC +FIES; moon illumination: 0.71)</td></tr>\n",
       "<tr><td>2022-04-14</td><td>12:00:00.000 PM</td><td>2022-04-15</td><td>12:00:00.000 PM</td><td>Technical time (Instrument(s): ALFOSC +FIES; moon illumination: 0.93)</td></tr>\n",
       "<tr><td>2022-04-18</td><td>12:00:00.000 PM</td><td>2022-04-19</td><td>12:00:00.000 PM</td><td>Nordic service time (Instrument(s): ALFOSC +FIES; moon illumination: 0.96)</td></tr>\n",
       "<tr><td>...</td><td>...</td><td>...</td><td>...</td><td>...</td></tr>\n",
       "<tr><td>2022-08-26</td><td>12:00:00.000 PM</td><td>2022-08-27</td><td>12:00:00.000 PM</td><td>Nordic service time (Instrument(s): ALFOSC +FIES; moon illumination: 0.01)</td></tr>\n",
       "<tr><td>2022-08-27</td><td>12:00:00.000 PM</td><td>2022-08-28</td><td>12:00:00.000 PM</td><td>Nordic service time (Instrument(s): ALFOSC +FIES; moon illumination: 0.0)</td></tr>\n",
       "<tr><td>2022-09-03</td><td>12:00:00.000 PM</td><td>2022-09-04</td><td>12:00:00.000 PM</td><td>Nordic service time (Instrument(s): ALFOSC +FIES; moon illumination: 0.47)</td></tr>\n",
       "<tr><td>2022-09-12</td><td>12:00:00.000 PM</td><td>2022-09-13</td><td>12:00:00.000 PM</td><td>Technical time (Instrument(s): ALFOSC +?; moon illumination: 0.94)</td></tr>\n",
       "<tr><td>2022-09-16</td><td>12:00:00.000 PM</td><td>2022-09-17</td><td>12:00:00.000 PM</td><td>Nordic service time (Instrument(s): ALFOSC +FIES; moon illumination: 0.64)</td></tr>\n",
       "<tr><td>2022-09-18</td><td>12:00:00.000 PM</td><td>2022-09-19</td><td>12:00:00.000 PM</td><td>Technical time (Instrument(s): ALFOSC; moon illumination: 0.45)</td></tr>\n",
       "<tr><td>2022-09-19</td><td>12:00:00.000 PM</td><td>2022-09-21</td><td>12:00:00.000 PM</td><td>Nordic service time (Instrument(s): ALFOSC +FIES; moon illumination: 0.35)</td></tr>\n",
       "<tr><td>2022-09-27</td><td>12:00:00.000 PM</td><td>2022-09-28</td><td>12:00:00.000 PM</td><td>Nordic service time (Instrument(s): ALFOSC +FIES; moon illumination: 0.03)</td></tr>\n",
       "<tr><td>2022-09-29</td><td>12:00:00.000 PM</td><td>2022-09-30</td><td>12:00:00.000 PM</td><td>Nordic service time (Instrument(s): ALFOSC +FIES; moon illumination: 0.14)</td></tr>\n",
       "<tr><td>2022-09-30</td><td>12:00:00.000 PM</td><td>2022-10-01</td><td>12:00:00.000 PM</td><td>Technical time (Instrument(s): ALFOSC; moon illumination: 0.23)</td></tr>\n",
       "</table></div>"
      ],
      "text/plain": [
       "<Table length=78>\n",
       "Start date ...\n",
       " bytes100  ...\n",
       "---------- ...\n",
       "2022-04-01 ...\n",
       "2022-04-02 ...\n",
       "2022-04-06 ...\n",
       "2022-04-07 ...\n",
       "2022-04-08 ...\n",
       "2022-04-09 ...\n",
       "2022-04-10 ...\n",
       "2022-04-11 ...\n",
       "2022-04-14 ...\n",
       "2022-04-18 ...\n",
       "       ... ...\n",
       "2022-08-26 ...\n",
       "2022-08-27 ...\n",
       "2022-09-03 ...\n",
       "2022-09-12 ...\n",
       "2022-09-16 ...\n",
       "2022-09-18 ...\n",
       "2022-09-19 ...\n",
       "2022-09-27 ...\n",
       "2022-09-29 ...\n",
       "2022-09-30 ..."
      ]
     },
     "execution_count": 14,
     "metadata": {},
     "output_type": "execute_result"
    }
   ],
   "source": [
    "obs_run#[20:]"
   ]
  },
  {
   "cell_type": "code",
   "execution_count": null,
   "metadata": {},
   "outputs": [],
   "source": []
  },
  {
   "cell_type": "code",
   "execution_count": null,
   "metadata": {},
   "outputs": [],
   "source": []
  }
 ],
 "metadata": {
  "kernelspec": {
   "display_name": "Python 3.9.12 ('py39')",
   "language": "python",
   "name": "python3"
  },
  "language_info": {
   "codemirror_mode": {
    "name": "ipython",
    "version": 3
   },
   "file_extension": ".py",
   "mimetype": "text/x-python",
   "name": "python",
   "nbconvert_exporter": "python",
   "pygments_lexer": "ipython3",
   "version": "3.9.12"
  },
  "vscode": {
   "interpreter": {
    "hash": "b6910ff25df8dce09efd796973b3009190886844a245b2e126304e1790157435"
   }
  }
 },
 "nbformat": 4,
 "nbformat_minor": 4
}
